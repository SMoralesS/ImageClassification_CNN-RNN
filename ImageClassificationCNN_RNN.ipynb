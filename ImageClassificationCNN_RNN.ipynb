{
 "cells": [
  {
   "cell_type": "markdown",
   "metadata": {
    "colab_type": "text",
    "id": "LZdMszRZtc4K"
   },
   "source": [
    "# Image classification using RNN and CNN"
   ]
  },
  {
   "cell_type": "code",
   "execution_count": 1,
   "metadata": {
    "colab": {},
    "colab_type": "code",
    "id": "xnKjDgdRO8NR"
   },
   "outputs": [],
   "source": [
    "import tensorflow as tf\n",
    "import numpy as np"
   ]
  },
  {
   "cell_type": "code",
   "execution_count": 2,
   "metadata": {
    "colab": {},
    "colab_type": "code",
    "id": "JyWN5Er5yMQ4"
   },
   "outputs": [],
   "source": [
    "from tensorflow.keras.datasets import cifar100\n",
    "import matplotlib.pyplot as plt\n",
    "#from google.colab import files"
   ]
  },
  {
   "cell_type": "markdown",
   "metadata": {
    "colab_type": "text",
    "id": "nPU5Be3Xth7H"
   },
   "source": [
    "Name:  Santiago Morales S."
   ]
  },
  {
   "cell_type": "markdown",
   "metadata": {
    "colab_type": "text",
    "id": "_35rXON2ZkS2"
   },
   "source": [
    "## Data"
   ]
  },
  {
   "cell_type": "code",
   "execution_count": null,
   "metadata": {
    "colab": {},
    "colab_type": "code",
    "id": "MFCoasYhyQsY"
   },
   "outputs": [
    {
     "name": "stdout",
     "output_type": "stream",
     "text": [
      "Downloading data from https://www.cs.toronto.edu/~kriz/cifar-100-python.tar.gz\n",
      " 60809216/169001437 [=========>....................] - ETA: 4:11"
     ]
    }
   ],
   "source": [
    "(x_train,y_train),(x_test,y_test)=cifar100.load_data()\n",
    "x_train=x_train/255\n",
    "x_test=x_test/255"
   ]
  },
  {
   "cell_type": "code",
   "execution_count": null,
   "metadata": {
    "colab": {},
    "colab_type": "code",
    "id": "LdDmQ---7_7L"
   },
   "outputs": [],
   "source": [
    "y_trainOH = np.zeros([y_train.shape[0],100])\n",
    "y_testOH = np.zeros([y_test.shape[0],100])\n",
    "y_trainOH[np.arange(y_train.shape[0]),y_train.reshape(-1)]=1\n",
    "y_testOH[np.arange(y_test.shape[0]),y_test.reshape(-1)]=1"
   ]
  },
  {
   "cell_type": "code",
   "execution_count": 0,
   "metadata": {
    "colab": {},
    "colab_type": "code",
    "id": "ScvvI-Hs8IiO"
   },
   "outputs": [],
   "source": []
  },
  {
   "cell_type": "code",
   "execution_count": 6,
   "metadata": {
    "colab": {
     "base_uri": "https://localhost:8080/",
     "height": 86
    },
    "colab_type": "code",
    "id": "klifrJLlyloF",
    "outputId": "a302a9a1-647f-4ad3-812e-fe74fce71abf"
   },
   "outputs": [
    {
     "name": "stdout",
     "output_type": "stream",
     "text": [
      "(50000, 32, 32, 3)\n",
      "(10000, 32, 32, 3)\n",
      "(50000, 1)\n",
      "(10000, 1)\n"
     ]
    }
   ],
   "source": [
    "print(x_train.shape)\n",
    "print(x_test.shape)\n",
    "print(y_train.shape)\n",
    "print(y_test.shape)"
   ]
  },
  {
   "cell_type": "code",
   "execution_count": 7,
   "metadata": {
    "colab": {
     "base_uri": "https://localhost:8080/",
     "height": 364
    },
    "colab_type": "code",
    "id": "tmkVYuJfF-WT",
    "outputId": "62899a27-6589-4634-cd0f-0b6ba41fad18"
   },
   "outputs": [
    {
     "data": {
      "text/plain": [
       "<matplotlib.image.AxesImage at 0x7f99088be2e8>"
      ]
     },
     "execution_count": 7,
     "metadata": {
      "tags": []
     },
     "output_type": "execute_result"
    },
    {
     "data": {
      "image/png": "[encoded data removed]",
      "text/plain": [
       "<matplotlib.figure.Figure at 0x7f990910beb8>"
      ]
     },
     "metadata": {
      "tags": []
     },
     "output_type": "display_data"
    }
   ],
   "source": [
    "plt.imshow(x_train[0])"
   ]
  },
  {
   "cell_type": "markdown",
   "metadata": {
    "colab_type": "text",
    "id": "T-6RQVT8Q3FO"
   },
   "source": [
    "## Next Bach function CNN"
   ]
  },
  {
   "cell_type": "code",
   "execution_count": 0,
   "metadata": {
    "colab": {},
    "colab_type": "code",
    "id": "U7viw6KCQ2Vg"
   },
   "outputs": [],
   "source": [
    "def next_batchCNN(batch_size):\n",
    "    t0 = np.random.randint(0,len(x_train),batch_size)\n",
    "    xs = x_train[t0]\n",
    "    ys = y_trainOH[t0]\n",
    "    return xs, ys"
   ]
  },
  {
   "cell_type": "code",
   "execution_count": 8,
   "metadata": {
    "colab": {
     "base_uri": "https://localhost:8080/",
     "height": 34
    },
    "colab_type": "code",
    "id": "daSs2FkNR1C0",
    "outputId": "7369e3a3-cb59-42e5-c5c7-309542f3e955"
   },
   "outputs": [
    {
     "data": {
      "text/plain": [
       "(50, 100)"
      ]
     },
     "execution_count": 8,
     "metadata": {
      "tags": []
     },
     "output_type": "execute_result"
    }
   ],
   "source": [
    "a = np.random.randint(0,len(x_train),50)\n",
    "xx = x_train[a]\n",
    "yy = y_trainOH[a]\n",
    "np.shape(yy.reshape(-1,100))\n",
    "np.shape(yy)"
   ]
  },
  {
   "cell_type": "markdown",
   "metadata": {
    "colab_type": "text",
    "id": "7r4ACCqpRZ7M"
   },
   "source": [
    "## Next Batch function RNN"
   ]
  },
  {
   "cell_type": "code",
   "execution_count": 0,
   "metadata": {
    "colab": {},
    "colab_type": "code",
    "id": "2icjk9QKRpc_"
   },
   "outputs": [],
   "source": [
    "def next_batchRNN(batch_size):\n",
    "    t0 = np.random.randint(0,len(x_train),batch_size)\n",
    "    xs = np.mean(x_train[t0],axis=3)\n",
    "    ys = y_train[t0]\n",
    "    return xs, ys.reshape(-1)"
   ]
  },
  {
   "cell_type": "code",
   "execution_count": 0,
   "metadata": {
    "colab": {},
    "colab_type": "code",
    "id": "XdP1IrEKCuRk"
   },
   "outputs": [],
   "source": [
    "#a = np.random.randint(0,len(x_train),50)\n",
    "#b = np.mean(x_train[a],axis=3)\n",
    "#c = y_train[a]\n",
    "#y_train[a]\n"
   ]
  },
  {
   "cell_type": "markdown",
   "metadata": {
    "colab_type": "text",
    "id": "X3wzfOMGPkhK"
   },
   "source": [
    "# CNN"
   ]
  },
  {
   "cell_type": "code",
   "execution_count": 0,
   "metadata": {
    "colab": {},
    "colab_type": "code",
    "id": "cGNCxJ56MCNy"
   },
   "outputs": [],
   "source": [
    "tf.reset_default_graph()\n",
    "\n",
    "X = tf.placeholder(tf.float32, shape=(None, 32,32, 3))\n",
    "y = tf.placeholder(tf.float32, shape=(None, 100))\n",
    "\n",
    "convos=[64,32,384]\n",
    "k_size=[3,1]\n",
    "n_stride=1\n",
    "pools=[2,2]\n",
    "\n",
    "\n",
    "##CONVOLUTION 64-3x3\n",
    "convo11 = tf.layers.conv2d(X, convos[1],kernel_size=k_size[0], strides=1, padding=\"VALID\",activation=tf.nn.selu)\n",
    "\n",
    "##CONVOLUTION 32-3x3\n",
    "convo21 = tf.layers.conv2d(convo11, convos[0],kernel_size=k_size[0], strides=1, padding=\"VALID\",activation=tf.nn.selu)\n",
    "\n",
    "##POOLING 2x2\n",
    "pool11 = tf.layers.max_pooling2d(convo21,pool_size=pools[0],strides=pools[0])\n",
    "\n",
    "\n",
    "##CONVOLUTION 64-3x3\n",
    "convo1 = tf.layers.conv2d(pool11, convos[0],kernel_size=k_size[0], strides=1, padding=\"SAME\",activation=tf.nn.selu)\n",
    "\n",
    "##POOLING 2x2\n",
    "pool1 = tf.layers.max_pooling2d(convo1,pool_size=pools[0],strides=pools[0])\n",
    "\n",
    "##INCEPTION\n",
    "#1st layer\n",
    "convo2 = tf.layers.conv2d(pool1, convos[0],kernel_size=k_size[1], strides=n_stride, padding=\"SAME\",activation=tf.nn.selu)\n",
    "convo3 = tf.layers.conv2d(pool1, convos[0],kernel_size=k_size[1], strides=n_stride, padding=\"SAME\",activation=tf.nn.selu)\n",
    "convo4 = tf.layers.conv2d(pool1, convos[0],kernel_size=k_size[1], strides=n_stride, padding=\"SAME\",activation=tf.nn.selu)\n",
    "#2nd layer\n",
    "convo5 = tf.layers.conv2d(convo3, convos[0],kernel_size=k_size[0], strides=n_stride, padding=\"SAME\",activation=tf.nn.selu)\n",
    "convo6 = tf.layers.conv2d(convo4, convos[0],kernel_size=k_size[0], strides=n_stride, padding=\"SAME\",activation=tf.nn.selu)\n",
    "#3rd layer\n",
    "convo7 = tf.layers.conv2d(convo6, convos[0],kernel_size=k_size[0], strides=n_stride, padding=\"SAME\",activation=tf.nn.selu)\n",
    "#Concat\n",
    "concat = tf.concat([convo2,convo5,convo7],3)\n",
    "convoInc = tf.layers.conv2d(concat, 64,kernel_size=k_size[1], strides=n_stride, padding=\"SAME\",activation=tf.nn.selu)\n",
    "\n",
    "##CONVOLUTION 32-3x3\n",
    "convo12 = tf.layers.conv2d(convoInc, convos[0],kernel_size=k_size[1], strides=1, padding=\"VALID\",activation=tf.nn.selu)\n",
    "\n",
    "##CONVOLUTION 32-3x3\n",
    "convo22 = tf.layers.conv2d(convo12, convos[0],kernel_size=k_size[1], strides=1, padding=\"VALID\",activation=tf.nn.selu)\n",
    "\n",
    "##POOLING 2x2\n",
    "pool2 = tf.layers.average_pooling2d(convo22,pool_size=pools[1],strides=pools[1])\n",
    "\n",
    "\n",
    "##DENSE 64\n",
    "flat = tf.layers.flatten(pool2)\n",
    "dense = tf.layers.dense(flat, 64,activation=tf.nn.selu)\n",
    "logits = tf.layers.dense(dense, 100)\n",
    "y_pred=tf.nn.softmax(logits)\n",
    "\n",
    "xentropy = tf.nn.softmax_cross_entropy_with_logits(labels=y,logits=logits)\n",
    "loss = tf.reduce_mean(xentropy, name=\"loss\")\n",
    "\n",
    "optimizer = tf.train.AdamOptimizer()\n",
    "training_op = optimizer.minimize(loss)\n",
    "\n",
    "correct = tf.equal(tf.argmax(y,1),tf.argmax(y_pred,1))\n",
    "accuracy = tf.reduce_mean(tf.cast(correct, tf.float32))\n",
    "\n",
    "init = tf.global_variables_initializer()"
   ]
  },
  {
   "cell_type": "code",
   "execution_count": 57,
   "metadata": {
    "colab": {
     "base_uri": "https://localhost:8080/",
     "height": 434
    },
    "colab_type": "code",
    "id": "nfW0Wu6EQI7k",
    "outputId": "79bfd4f2-214c-493e-bbb5-7fdd076b94a8"
   },
   "outputs": [
    {
     "name": "stdout",
     "output_type": "stream",
     "text": [
      "0 Train accuracy: 0.08364000050816685 Test accuracy: 0.1528\n",
      "1 Train accuracy: 0.19472000047564506 Test accuracy: 0.2254\n",
      "2 Train accuracy: 0.28170000165700915 Test accuracy: 0.2798\n",
      "3 Train accuracy: 0.3396800005435944 Test accuracy: 0.3211\n",
      "4 Train accuracy: 0.37458000153303145 Test accuracy: 0.3529\n",
      "5 Train accuracy: 0.4000399991869926 Test accuracy: 0.3616\n",
      "6 Train accuracy: 0.42763999968767163 Test accuracy: 0.3688\n",
      "7 Train accuracy: 0.4507799997925758 Test accuracy: 0.3854\n",
      "8 Train accuracy: 0.46869999915361404 Test accuracy: 0.3995\n",
      "9 Train accuracy: 0.4917799997329712 Test accuracy: 0.4153\n",
      "10 Train accuracy: 0.5089399987459182 Test accuracy: 0.4159\n",
      "11 Train accuracy: 0.521439998447895 Test accuracy: 0.4202\n",
      "12 Train accuracy: 0.5369800013303757 Test accuracy: 0.4248\n",
      "13 Train accuracy: 0.5589200013875961 Test accuracy: 0.4279\n",
      "14 Train accuracy: 0.5683799993991852 Test accuracy: 0.4301\n",
      "15 Train accuracy: 0.5824000000953674 Test accuracy: 0.4369\n",
      "16 Train accuracy: 0.5916199988126755 Test accuracy: 0.4361\n",
      "17 Train accuracy: 0.6057599991559982 Test accuracy: 0.4367\n",
      "18 Train accuracy: 0.6189999997615814 Test accuracy: 0.4369\n",
      "19 Train accuracy: 0.6349800020456314 Test accuracy: 0.4383\n",
      "20 Train accuracy: 0.6451200002431869 Test accuracy: 0.4392\n",
      "21 Train accuracy: 0.6569200021028518 Test accuracy: 0.4421\n",
      "22 Train accuracy: 0.6792399990558624 Test accuracy: 0.4405\n",
      "23 Train accuracy: 0.686139999628067 Test accuracy: 0.438\n"
     ]
    }
   ],
   "source": [
    "saverCNN = tf.train.Saver()\n",
    "n_epochs = 24\n",
    "batch_size = 500\n",
    "iters=len(x_train)//batch_size\n",
    "with tf.Session() as sess:\n",
    "    init.run()\n",
    "    for epoch in range(n_epochs):\n",
    "        acc_train=0\n",
    "        for iteration in range(iters):\n",
    "            X_batch, y_batch = next_batchCNN(batch_size)\n",
    "            curr_acc,_=sess.run([accuracy,training_op], feed_dict={X: X_batch, y: y_batch})\n",
    "            acc_train += curr_acc\n",
    "        acc_test = accuracy.eval(feed_dict={X: x_test, y: y_testOH})\n",
    "        print(epoch, \"Train accuracy:\", acc_train/iters, \"Test accuracy:\", acc_test)\n",
    "    saverCNN.save(sess, \"./ModelCNN\")"
   ]
  },
  {
   "cell_type": "markdown",
   "metadata": {
    "colab_type": "text",
    "id": "QxWmduW5_-Um"
   },
   "source": [
    "# RNN"
   ]
  },
  {
   "cell_type": "code",
   "execution_count": 58,
   "metadata": {
    "colab": {
     "base_uri": "https://localhost:8080/",
     "height": 278
    },
    "colab_type": "code",
    "id": "OYNgNmYFQNPP",
    "outputId": "a4e13b00-fe34-4b95-dfb3-001d9873a56c"
   },
   "outputs": [
    {
     "name": "stdout",
     "output_type": "stream",
     "text": [
      "0 Train accuracy: 0.06734734757134954 Test accuracy: 0.0918\n",
      "1 Train accuracy: 0.12212212302081578 Test accuracy: 0.1317\n",
      "2 Train accuracy: 0.14998999020985296 Test accuracy: 0.1553\n",
      "3 Train accuracy: 0.1766966975800268 Test accuracy: 0.1697\n",
      "4 Train accuracy: 0.19395395473495977 Test accuracy: 0.1844\n",
      "5 Train accuracy: 0.21179179269988258 Test accuracy: 0.1887\n",
      "6 Train accuracy: 0.2259659664901169 Test accuracy: 0.2007\n",
      "7 Train accuracy: 0.24464464572456865 Test accuracy: 0.2074\n",
      "8 Train accuracy: 0.2582982986628472 Test accuracy: 0.2105\n",
      "9 Train accuracy: 0.2753553555176423 Test accuracy: 0.2115\n",
      "10 Train accuracy: 0.28726726819624054 Test accuracy: 0.2181\n",
      "11 Train accuracy: 0.29669669758271167 Test accuracy: 0.2224\n",
      "12 Train accuracy: 0.3126726721052651 Test accuracy: 0.2156\n",
      "13 Train accuracy: 0.31971972053115433 Test accuracy: 0.2216\n",
      "14 Train accuracy: 0.32904904919701655 Test accuracy: 0.2209\n"
     ]
    }
   ],
   "source": [
    "tf.reset_default_graph()\n",
    "\n",
    "n_steps = 32\n",
    "n_inputs = 32\n",
    "n_neurons = [50,50,50,100]\n",
    "n_outputs = 100\n",
    "\n",
    "X = tf.placeholder(tf.float32, [None, n_steps, n_inputs])\n",
    "y = tf.placeholder(tf.int32, [None])\n",
    "\n",
    "\n",
    "layers = [tf.contrib.rnn.GRUCell(num_units=n_neuron, activation=tf.nn.selu) for n_neuron in n_neurons]\n",
    "multi_layer_cell = tf.contrib.rnn.MultiRNNCell(layers)\n",
    "outputs, states = tf.nn.dynamic_rnn(multi_layer_cell, X, dtype=tf.float32)\n",
    "\n",
    "states_concat = tf.concat(axis=1, values=states)\n",
    "logits = tf.layers.dense(states_concat, n_outputs)\n",
    "xentropy = tf.nn.sparse_softmax_cross_entropy_with_logits(labels=y,logits=logits)\n",
    "loss = tf.reduce_mean(xentropy)\n",
    "\n",
    "optimizer = tf.train.AdamOptimizer()\n",
    "training_op = optimizer.minimize(loss)\n",
    "\n",
    "correct = tf.nn.in_top_k(logits, y, 1)\n",
    "accuracy = tf.reduce_mean(tf.cast(correct, tf.float32))\n",
    "\n",
    "init = tf.global_variables_initializer()\n",
    "\n",
    "n_epochs = 15\n",
    "batch_size = 150\n",
    "iters=len(x_train) // batch_size\n",
    "saverRNN = tf.train.Saver()\n",
    "with tf.Session() as sess:\n",
    "    init.run()\n",
    "    for epoch in range(n_epochs):\n",
    "        acc_train=0\n",
    "        for iteration in range(iters):\n",
    "            X_batch, y_batch = next_batchRNN(batch_size)\n",
    "            #X_batch = X_batch.reshape((-1, n_steps, n_inputs))\n",
    "            curr_acc,_=sess.run([accuracy,training_op], feed_dict={X: X_batch, y: y_batch})\n",
    "            acc_train += curr_acc\n",
    "        acc_test = accuracy.eval(feed_dict={X: np.mean(x_test,axis=3), y: y_test.reshape(-1)})\n",
    "        print(epoch, \"Train accuracy:\", acc_train/iters, \"Test accuracy:\", acc_test)\n",
    "    saverCNN.save(sess, \"./ModelRNN\")\n"
   ]
  }
 ],
 "metadata": {
  "accelerator": "GPU",
  "colab": {
   "collapsed_sections": [],
   "name": "Parcial.ipynb",
   "provenance": [],
   "version": "0.3.2"
  },
  "kernelspec": {
   "display_name": "Python 3",
   "language": "python",
   "name": "python3"
  },
  "language_info": {
   "codemirror_mode": {
    "name": "ipython",
    "version": 3
   },
   "file_extension": ".py",
   "mimetype": "text/x-python",
   "name": "python",
   "nbconvert_exporter": "python",
   "pygments_lexer": "ipython3",
   "version": "3.7.3"
  }
 },
 "nbformat": 4,
 "nbformat_minor": 1
}
